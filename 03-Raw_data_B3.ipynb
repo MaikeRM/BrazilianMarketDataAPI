{
 "cells": [
  {
   "cell_type": "code",
   "execution_count": 1,
   "metadata": {
    "ExecuteTime": {
     "end_time": "2022-06-29T18:14:36.480749Z",
     "start_time": "2022-06-29T18:14:35.561822Z"
    }
   },
   "outputs": [],
   "source": [
    "import pandas as pd\n",
    "import datetime\n",
    "from dateutil.relativedelta import relativedelta\n",
    "import numpy as np\n",
    "import os\n",
    "import time\n",
    "\n",
    "import warnings\n",
    "warnings.filterwarnings(\"ignore\")\n",
    "\n",
    "\n",
    "this_year = datetime.datetime.today().strftime('%Y')\n",
    "today = datetime.datetime.today().strftime('%Y-%m-%d')"
   ]
  },
  {
   "cell_type": "markdown",
   "metadata": {},
   "source": [
    "# SCRAPPING B3"
   ]
  },
  {
   "cell_type": "code",
   "execution_count": null,
   "metadata": {
    "ExecuteTime": {
     "end_time": "2022-06-28T17:55:41.276874Z",
     "start_time": "2022-06-28T17:55:26.851438Z"
    }
   },
   "outputs": [],
   "source": [
    "import ssl\n",
    "\n",
    "ssl._create_default_https_context = ssl._create_unverified_context\n",
    "\n",
    "## total shares at B3 (updates each saturday)\n",
    "\n",
    "capital_social = pd.read_html('http://bvmf.bmfbovespa.com.br/CapitalSocial/', decimal=',', thousands='.')[0]\n",
    "\n",
    "capital_social.drop_duplicates('Código',inplace=True)\n",
    "capital_social.set_index('Código',inplace=True)\n",
    "\n",
    "\n",
    "\n",
    "if os.path.exists('raw_data_B3/capital_social/capitalsocial.pkl'):\n",
    "    os.remove('raw_data_B3/capital_social/capitalsocial.pkl')\n",
    "\n",
    "\n",
    "capital_social.to_pickle('raw_data_B3/capital_social/capitalsocial.pkl')\n",
    "\n",
    "##backup\n",
    "\n",
    "capital_social.to_pickle('BACKUPS/capital_social/capitalsocial%s.pkl'%today)"
   ]
  },
  {
   "cell_type": "code",
   "execution_count": null,
   "metadata": {
    "ExecuteTime": {
     "end_time": "2022-06-28T17:59:12.675197Z",
     "start_time": "2022-06-28T17:59:12.637297Z"
    }
   },
   "outputs": [],
   "source": [
    "## scrapping all dividends data from B3\n",
    "\n",
    "info = pd.read_pickle('clean_data/info_companies/info_companies_geral_comSetor.pkl')\n",
    "\n",
    "codigo = info['Codigo_CVM'].unique()"
   ]
  },
  {
   "cell_type": "markdown",
   "metadata": {
    "heading_collapsed": true
   },
   "source": [
    "## SCRAPPING PREVIOUS DIVIDENDS PAGE"
   ]
  },
  {
   "cell_type": "code",
   "execution_count": null,
   "metadata": {
    "ExecuteTime": {
     "end_time": "2022-06-28T18:07:46.441029Z",
     "start_time": "2022-06-28T18:06:16.582376Z"
    },
    "hidden": true
   },
   "outputs": [],
   "source": [
    "import threading, urllib.request\n",
    "import queue\n",
    "\n",
    "urls_to_load = []\n",
    "for i in codigo:\n",
    "    urls_to_load.append(\"http://bvmf.bmfbovespa.com.br/cias-listadas/empresas-listadas/ResumoProventosDinheiro.aspx?codigoCvm=%s&tab=3.1&idioma=pt-br\"%i)\n",
    "\n",
    "for x in range(30,391,30):\n",
    "    def read_url(url, queue,cvm):\n",
    "        data = pd.read_html(url, decimal=',', thousands='.')[0]\n",
    "        data.to_pickle(\"raw_data_B3/proventos/historico/%s.pkl\"%cvm)\n",
    "        queue.put(data)\n",
    "\n",
    "    def fetch_parallel():\n",
    "        result = queue.Queue()\n",
    "        threads = [threading.Thread(target=read_url, args = (url,result,cvm)) for url,cvm in zip(urls_to_load[x-30:x],codigo[x-30:x])]\n",
    "        for t in threads:\n",
    "            t.start()\n",
    "        for t in threads:\n",
    "            t.join()\n",
    "        return result\n",
    "    \n",
    "    \n",
    "    fetch_parallel()\n",
    "    time.sleep(5)"
   ]
  },
  {
   "cell_type": "code",
   "execution_count": null,
   "metadata": {
    "ExecuteTime": {
     "end_time": "2022-06-28T18:08:22.048580Z",
     "start_time": "2022-06-28T18:08:18.474630Z"
    },
    "hidden": true
   },
   "outputs": [],
   "source": [
    "all_divd = pd.DataFrame()\n",
    "for x in codigo:\n",
    "    try:\n",
    "        comp = pd.read_pickle(\"raw_data_b3/proventos/historico/%s.pkl\"%x)\n",
    "        comp['Codigo_CVM'] = x\n",
    "        all_divd = pd.concat([all_divd,comp])\n",
    "    except:\n",
    "        continue"
   ]
  },
  {
   "cell_type": "code",
   "execution_count": null,
   "metadata": {
    "ExecuteTime": {
     "end_time": "2022-06-28T18:08:22.141174Z",
     "start_time": "2022-06-28T18:08:22.053202Z"
    },
    "hidden": true
   },
   "outputs": [],
   "source": [
    "all_divd[\"Últ. Dia 'Com'\"] = pd.to_datetime(all_divd[\"Últ. Dia 'Com'\"], format='%d/%m/%Y')\n",
    "\n",
    "all_divd = all_divd.loc[all_divd[\"Últ. Dia 'Com'\"].dt.year >2006]\n",
    "\n",
    "all_divd.drop(['Data da Aprovação (I)','Proventos por unidade ou mil','Preço por unidade ou mil',\n",
    "          \"Data do Últ. Preço 'Com' (III)\"],inplace=True,axis=1)\n",
    "\n",
    "all_divd.rename({'Tipo do Provento (II)':'Tipo Provento',\"Últ. Dia 'Com'\":\"Data COM\",\"Últ. Preço 'Com'\":\"Preço Data COM\",\n",
    "            'Valor do Provento (R$)':'Valor','Tipo de Ativo':'CLASSE'},inplace=True,axis=1)\n",
    "\n",
    "all_divd.to_pickle('raw_data_b3/proventos/historico/all_proventos_hist.pkl')\n",
    "all_divd.to_pickle('BACKUPS/proventos/all_proventos_hist%s.pkl'%today)"
   ]
  },
  {
   "cell_type": "markdown",
   "metadata": {
    "heading_collapsed": true
   },
   "source": [
    "## SCRAPPING NEW DIVIDENDS PAGE"
   ]
  },
  {
   "cell_type": "code",
   "execution_count": null,
   "metadata": {
    "ExecuteTime": {
     "end_time": "2022-06-28T18:12:17.219965Z",
     "start_time": "2022-06-28T18:10:53.029459Z"
    },
    "hidden": true
   },
   "outputs": [],
   "source": [
    "import threading, urllib.request\n",
    "import queue\n",
    "\n",
    "urls_to_load = []\n",
    "for i in codigo:\n",
    "    urls_to_load.append(\"http://bvmf.bmfbovespa.com.br/cias-listadas/empresas-listadas/ResumoEventosCorporativos.aspx?codigoCvm=%s&tab=3&idioma=pt-br\"%i)\n",
    "\n",
    "for x in range(30,391,30):\n",
    "    def read_url(url, queue,cvm):\n",
    "        data = pd.read_html(url, decimal=',', thousands='.')\n",
    "        eventos_corp = pd.DataFrame()\n",
    "        for x in range(2,len(data)):\n",
    "            resum = data[x]\n",
    "            eventos_corp = pd.concat([eventos_corp,resum])\n",
    "        eventos_corp.to_pickle(\"raw_data_B3/proventos/eventos_corporativos/%s.pkl\"%cvm)\n",
    "        queue.put(eventos_corp)\n",
    "\n",
    "    def fetch_parallel():\n",
    "        result = queue.Queue()\n",
    "        threads = [threading.Thread(target=read_url, args = (url,result,cvm)) for url,cvm in zip(urls_to_load[x-30:x],codigo[x-30:x])]\n",
    "        for t in threads:\n",
    "            t.start()\n",
    "        for t in threads:\n",
    "            t.join()\n",
    "        return result\n",
    "    \n",
    "    \n",
    "    fetch_parallel()\n",
    "    time.sleep(5)"
   ]
  },
  {
   "cell_type": "code",
   "execution_count": null,
   "metadata": {
    "ExecuteTime": {
     "end_time": "2022-06-28T18:13:58.659515Z",
     "start_time": "2022-06-28T18:13:58.137060Z"
    },
    "hidden": true
   },
   "outputs": [],
   "source": [
    "all_event = pd.DataFrame()\n",
    "for x in codigo:\n",
    "    try:\n",
    "        comp = pd.read_pickle(\"raw_data_B3/proventos/eventos_corporativos/%s.pkl\"%x)\n",
    "        comp['Codigo_CVM'] = x\n",
    "        all_event = pd.concat([all_event,comp])\n",
    "    except:\n",
    "        continue"
   ]
  },
  {
   "cell_type": "code",
   "execution_count": null,
   "metadata": {
    "ExecuteTime": {
     "end_time": "2022-06-28T18:13:59.067208Z",
     "start_time": "2022-06-28T18:13:59.014349Z"
    },
    "hidden": true
   },
   "outputs": [],
   "source": [
    "## cleaning all events b3\n",
    "\n",
    "all_event.rename({'% / Fator de Grupamento':'Fator','Negócios com até':'Data COM','Deliberado em':'Aprovado',\n",
    "                 'Valor (R$)':'Valor','Início de Pagamento':'Pagamento'},inplace=True,axis=1)\n",
    "\n",
    "all_event.drop([ 'Relativo a','Observações','Aprovado'],axis=1,inplace=True)\n",
    "\n",
    "all_event['Data COM']=pd.to_datetime(all_event['Data COM'], format='%d/%m/%Y')\n",
    "\n",
    "all_event['CLASSE'] = [x[-3:-1] for x in all_event['Código ISIN']]\n",
    "\n",
    "conditions = [all_event['CLASSE']=='OR',all_event['CLASSE']=='PR',all_event['CLASSE']=='PA',all_event['CLASSE']=='PB',\n",
    "             all_event['CLASSE']=='PC',all_event['CLASSE']=='PD',all_event['CLASSE']=='PE',all_event['CLASSE']=='PF',\n",
    "             all_event['CLASSE']=='PG']\n",
    "choices = ['ON','PN','PNA','PNB','PNC','PND','PNE','PNF','PNG']\n",
    "all_event['CLASSE'] = np.select(conditions,choices,'UNT')\n",
    "\n",
    "all_event = all_event.loc[(all_event['Data COM'].dt.year > 2006)]"
   ]
  },
  {
   "cell_type": "code",
   "execution_count": null,
   "metadata": {
    "ExecuteTime": {
     "end_time": "2022-06-28T18:14:00.338809Z",
     "start_time": "2022-06-28T18:14:00.273984Z"
    },
    "hidden": true
   },
   "outputs": [],
   "source": [
    "## cleaning and adjusting GRUPAMENTO\n",
    "\n",
    "grupamento = all_event.loc[all_event['Proventos'] == 'GRUPAMENTO']\n",
    "\n",
    "grupamento.drop(grupamento.columns.difference(['Proventos', 'Código ISIN',\n",
    "       'Data COM', 'Fator', 'Ativo Emitido', 'Codigo_CVM','CLASSE']),axis=1,inplace=True)\n",
    "\n",
    "\n",
    "grupamento['Fator'] = grupamento['Fator'].map(int)\n",
    "\n",
    "grupamento['str_fator'] = grupamento['Fator'].map(str)\n",
    "\n",
    "grupamento['count'] = grupamento['str_fator'].map(len)\n",
    "\n",
    "def divide(row):\n",
    "    vdd = '1'\n",
    "    ldd = vdd+'0'*row\n",
    "    \n",
    "    return ldd\n",
    "\n",
    "grupamento['divider'] = grupamento['count'].map(divide)\n",
    "\n",
    "grupamento['divider'] = grupamento['divider'].map(int)\n",
    "\n",
    "grupamento['Fator Grupamento'] = grupamento['Fator']/grupamento['divider']\n",
    "\n",
    "grupamento = grupamento.loc[(grupamento['Data COM'].dt.year > 2006)]\n",
    "\n",
    "\n",
    "grupamento.drop(['Fator', 'Ativo Emitido','str_fator', 'count', 'divider'],axis=1,inplace=True)"
   ]
  },
  {
   "cell_type": "code",
   "execution_count": null,
   "metadata": {
    "ExecuteTime": {
     "end_time": "2022-06-28T18:14:01.453393Z",
     "start_time": "2022-06-28T18:14:01.415495Z"
    },
    "hidden": true
   },
   "outputs": [],
   "source": [
    "## cleaning and adjusting DESDOBRAMENTO\n",
    "desd = all_event.loc[all_event['Proventos'] == 'DESDOBRAMENTO']\n",
    "\n",
    "desd.drop(desd.columns.difference(['Proventos', 'Código ISIN',\n",
    "       'Data COM', 'Fator', 'Ativo Emitido', 'Codigo_CVM','CLASSE']),axis=1,inplace=True)\n",
    "\n",
    "desd['Fator'] = desd['Fator'].map(int)\n",
    "\n",
    "desd = desd.loc[(desd['Data COM'].dt.year >2005)]\n",
    "\n",
    "desd = desd.loc[(desd['Fator'] <3000)]\n",
    "\n",
    "desd['Fator Desdobramento'] = (desd['Fator']+100)/100\n",
    "desd['Fator Desdobramento'] = desd['Fator Desdobramento'].map(int)\n",
    "\n",
    "desd.drop(['Fator', 'Ativo Emitido'],axis=1,inplace=True)"
   ]
  },
  {
   "cell_type": "code",
   "execution_count": null,
   "metadata": {
    "ExecuteTime": {
     "end_time": "2022-06-28T18:14:02.692570Z",
     "start_time": "2022-06-28T18:14:02.659656Z"
    },
    "hidden": true
   },
   "outputs": [],
   "source": [
    "## cleaning proventos\n",
    "div = all_event.loc[all_event['Proventos'].isin(['DIVIDENDO', 'JRS CAP PROPRIO','RENDIMENTO'])]\n",
    "\n",
    "div.drop(div.columns.difference(['Proventos', 'Código ISIN',\n",
    "       'Data COM', 'Codigo_CVM','CLASSE','Valor','Pagamento']),axis=1,inplace=True)\n"
   ]
  },
  {
   "cell_type": "code",
   "execution_count": null,
   "metadata": {
    "ExecuteTime": {
     "end_time": "2022-06-28T18:14:18.690732Z",
     "start_time": "2022-06-28T18:14:18.657818Z"
    },
    "hidden": true
   },
   "outputs": [],
   "source": [
    "## concating and saving dados de proventos, grupamentos e desdobramentos\n",
    "tudo = pd.concat([div,grupamento,desd])\n",
    "\n",
    "tudo.to_pickle('raw_data_B3/proventos/eventos_corporativos/proventos_atuais_b3.pkl')\n",
    "tudo.to_pickle('BACKUPS/proventos/proventos_atuais_b3%s.pkl'%today)"
   ]
  },
  {
   "cell_type": "markdown",
   "metadata": {},
   "source": [
    "# Merging previous and new dividends info"
   ]
  },
  {
   "cell_type": "code",
   "execution_count": null,
   "metadata": {
    "ExecuteTime": {
     "end_time": "2022-06-28T18:14:57.003889Z",
     "start_time": "2022-06-28T18:14:55.692379Z"
    }
   },
   "outputs": [],
   "source": [
    "## criando df PROVENTOS atuais e historicos AJUSTADO\n",
    "\n",
    "tudo= pd.read_pickle(\"raw_data_B3/proventos/eventos_corporativos/proventos_atuais_b3.pkl\")\n",
    "\n",
    "tudo.reset_index(inplace=True, drop=True)\n",
    "\n",
    "divih = pd.read_pickle(\"raw_data_B3/proventos/historico/all_proventos_hist.pkl\")\n",
    "\n",
    "\n",
    "divih.rename({\"Tipo Provento\":\"Proventos\"},axis=1,inplace=True)\n",
    "\n",
    "\n",
    "divih['Data COM']=pd.to_datetime(divih['Data COM'], format='%Y-%m-%d')\n",
    "\n",
    "divih.reset_index(inplace=True, drop=True)\n",
    "\n",
    "all_div = pd.concat([divih,tudo])\n",
    "\n",
    "##ajustando desdobramentos magalu\n",
    "all_div=all_div.append({'Proventos':\"DESDOBRAMENTO\",'Data COM':'2019-07-31','CLASSE':'ON','Fator Desdobramento':8,'Codigo_CVM':22470},\n",
    "              ignore_index=True)\n",
    "\n",
    "all_div=all_div.append({'Proventos':\"DESDOBRAMENTO\",'Data COM':'2017-09-04','CLASSE':'ON','Fator Desdobramento':8,'Codigo_CVM':22470},\n",
    "              ignore_index=True)\n",
    "\n",
    "\n",
    "## excluindo grupamento da LEVE3\n",
    "all_div.drop(all_div.loc[(all_div['Codigo_CVM'] == 8575) & (all_div['Proventos'] =='GRUPAMENTO')].index,inplace=True)\n",
    "\n",
    "\n",
    "\n",
    "all_div['Data COM']=pd.to_datetime(all_div['Data COM'], format='%Y-%m-%d')\n",
    "\n",
    "all_div.sort_values(['Data COM'],inplace=True,ascending=False)\n",
    "\n",
    "all_div['Fator Desdobramento'] = all_div.groupby(['Codigo_CVM', 'CLASSE'])['Fator Desdobramento'].cumprod()\n",
    "\n",
    "all_div['Fator Grupamento'] = all_div.groupby(['Codigo_CVM', 'CLASSE'])['Fator Grupamento'].cumprod()\n",
    "\n",
    "all_div.sort_values(['Data COM'],inplace=True)\n",
    "\n",
    "all_div['Fator Grupamento'] = all_div.groupby(['Codigo_CVM', 'CLASSE'])['Fator Grupamento'].bfill().fillna(1)\n",
    "\n",
    "all_div['Fator Desdobramento'] = all_div.groupby(['Codigo_CVM', 'CLASSE'])['Fator Desdobramento'].bfill().fillna(1)\n",
    "\n",
    "all_div['Valor ajustado'] = (all_div['Valor'])/(all_div['Fator Desdobramento']*all_div['Fator Grupamento'])\n",
    "\n",
    "all_div['Preço COM ajustado'] = (all_div['Preço Data COM'])/(all_div['Fator Desdobramento']*all_div['Fator Grupamento'])\n",
    "\n",
    "all_div['Provento/Preço(%) ajustado'] = all_div['Valor ajustado']/all_div['Preço COM ajustado']\n",
    "\n",
    "all_div['ano'] = all_div['Data COM'].dt.year\n",
    "\n",
    "all_div['Pagamento']=pd.to_datetime(all_div['Pagamento'], format='%d/%m/%Y', errors='coerce')\n",
    "\n",
    "all_div.drop_duplicates(['Codigo_CVM','CLASSE', 'Valor','Data COM'],inplace=True)"
   ]
  },
  {
   "cell_type": "code",
   "execution_count": null,
   "metadata": {
    "ExecuteTime": {
     "end_time": "2022-06-28T18:16:26.293913Z",
     "start_time": "2022-06-28T18:16:26.270973Z"
    }
   },
   "outputs": [],
   "source": [
    "all_div.to_pickle(\"clean_data/dividends/proventos_b3.pkl\")\n",
    "all_div.to_pickle(\"clean_data/final_data/proventos_b3.pkl\")\n",
    "\n",
    "#backup\n",
    "\n",
    "all_div.to_pickle(\"BACKUPS/proventos/proventos_b3%s.pkl\"%today)"
   ]
  }
 ],
 "metadata": {
  "kernelspec": {
   "display_name": "Python 3",
   "language": "python",
   "name": "python3"
  },
  "language_info": {
   "codemirror_mode": {
    "name": "ipython",
    "version": 3
   },
   "file_extension": ".py",
   "mimetype": "text/x-python",
   "name": "python",
   "nbconvert_exporter": "python",
   "pygments_lexer": "ipython3",
   "version": "3.7.3"
  },
  "toc": {
   "base_numbering": 1,
   "nav_menu": {},
   "number_sections": true,
   "sideBar": true,
   "skip_h1_title": false,
   "title_cell": "Table of Contents",
   "title_sidebar": "Contents",
   "toc_cell": false,
   "toc_position": {},
   "toc_section_display": true,
   "toc_window_display": false
  }
 },
 "nbformat": 4,
 "nbformat_minor": 2
}
